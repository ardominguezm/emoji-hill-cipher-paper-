{
  "cells": [
    {
      "cell_type": "markdown",
      "metadata": {},
      "source": [
        "# Emoji\u2013Hill Cipher Examples\n",
        "This notebook reproduces the encryption and decryption examples from the paper."
      ]
    },
    {
      "cell_type": "code",
      "execution_count": null,
      "metadata": {},
      "outputs": [],
      "source": [
        "import numpy as np\n",
        "import emoji\n",
        "import pandas as pd\n",
        "\n",
        "# Hybrid alphabet (N=40) consistent with the paper\n",
        "alphabet = [\n",
        "    \"A\",\"B\",\"C\",\"D\",\"E\",\"F\",\"G\",\"H\",\"I\",\"J\",\n",
        "    \"K\",\"L\",\"M\",\"N\",\"O\",\"P\",\"Q\",\"R\",\"S\",\"T\",\n",
        "    \"U\",\"V\",\"W\",\"X\",\"Y\",\"Z\",\" \", \"!\", \"0\",\"1\",\n",
        "    \"2\",\"3\",\"4\",\n",
        "    emoji.emojize(\":brain:\"),                   \n",
        "    emoji.emojize(\":rocket:\"),                  \n",
        "    emoji.emojize(\":bar_chart:\"),               \n",
        "    emoji.emojize(\":robot:\"),                   \n",
        "    emoji.emojize(\":lock:\"),                    \n",
        "    emoji.emojize(\":smiling_face_with_smiling_eyes:\"), \n",
        "    emoji.emojize(\":puzzle_piece:\")             # PAD\n",
        "]\n",
        "\n",
        "N = len(alphabet)\n",
        "phi = {ch: i for i, ch in enumerate(alphabet)}\n",
        "phi_inv = {i: ch for i, ch in enumerate(alphabet)}\n",
        "\n",
        "print(\"Alphabet size:\", N)\n",
        "print(\"Sample indices:\", {ch: phi[ch] for ch in [emoji.emojize(':brain:'), 'A', 'X']})"
      ]
    },
    {
      "cell_type": "code",
      "execution_count": null,
      "metadata": {},
      "outputs": [],
      "source": [
        "# Key matrix (same as in the paper)\n",
        "K = np.array([[1, 2, 3],\n",
        "              [0, 1, 4],\n",
        "              [5, 6, 0]])\n",
        "det = int(round(np.linalg.det(K)))\n",
        "print(\"det(K) =\", det)\n",
        "\n",
        "# Inverse over Z_40\n",
        "K_inv = np.linalg.inv(K).astype(float)\n",
        "K_adj = np.round(det * K_inv).astype(int)  # adjugate\n",
        "K_inv_mod = (K_adj % N)  # since det=1\n",
        "print(\"K^-1 mod 40:\\n\", K_inv_mod)"
      ]
    },
    {
      "cell_type": "code",
      "execution_count": null,
      "metadata": {},
      "outputs": [],
      "source": [
        "def encode_message(msg):\n",
        "    return [phi[ch] for ch in msg]\n",
        "\n",
        "def decode_message(indices):\n",
        "    return ''.join(phi_inv[i] for i in indices)\n",
        "\n",
        "def blockify(seq, r=3):\n",
        "    # Padding with PAD if needed\n",
        "    while len(seq) % r != 0:\n",
        "        seq.append(phi[emoji.emojize(\":puzzle_piece:\")])\n",
        "    return [seq[i:i+r] for i in range(0, len(seq), r)]\n",
        "\n",
        "def encrypt_block(block):\n",
        "    x = np.array(block)\n",
        "    y = K.dot(x) % N\n",
        "    return y.tolist()\n",
        "\n",
        "def decrypt_block(block):\n",
        "    y = np.array(block)\n",
        "    x = K_inv_mod.dot(y) % N\n",
        "    return x.astype(int).tolist()"
      ]
    },
    {
      "cell_type": "code",
      "execution_count": null,
      "metadata": {},
      "outputs": [],
      "source": [
        "# Example 1: Encryption\n",
        "plaintext = [emoji.emojize(\":brain:\")] + list(\"DATA SCIENCE IS FUN!\") \\\n",
        "             + [emoji.emojize(\":rocket:\"), emoji.emojize(\":bar_chart:\")]\n",
        "\n",
        "# Encode and blockify\n",
        "x_indices = encode_message(plaintext)\n",
        "blocks = blockify(x_indices, r=3)\n",
        "\n",
        "rows = []\n",
        "for j, b in enumerate(blocks, 1):\n",
        "    y_raw = K.dot(b)\n",
        "    y_mod = (y_raw % N).tolist()\n",
        "    decoded = [phi_inv[i] for i in y_mod]\n",
        "    rows.append([j, b, y_raw.tolist(), y_mod, decoded])\n",
        "\n",
        "import pandas as pd\n",
        "df_enc = pd.DataFrame(rows, columns=[\"j\",\"x (indices)\",\"Kx (pre-mod)\",\"Kx mod 40\",\"Decoded\"])\n",
        "df_enc"
      ]
    },
    {
      "cell_type": "code",
      "execution_count": null,
      "metadata": {},
      "outputs": [],
      "source": [
        "# Ciphertext final\n",
        "ciphertext = ''.join(''.join(row[-1]) for row in rows)\n",
        "print(\"Ciphertext:\\n\", ciphertext)"
      ]
    },
    {
      "cell_type": "code",
      "execution_count": null,
      "metadata": {},
      "outputs": [],
      "source": [
        "# Example 2: Decryption\n",
        "cipher_example = \"UMMA\" + emoji.emojize(\":puzzle_piece:\") + \"MT0JTE\" \\\n",
        "    + emoji.emojize(\":puzzle_piece:\") + \"!FDX2VPE\" \\\n",
        "    + emoji.emojize(\":smiling_face_with_smiling_eyes:\") + \"YG3\" \\\n",
        "    + \"DH\" + emoji.emojize(\":rocket:\") \\\n",
        "    + emoji.emojize(\":smiling_face_with_smiling_eyes:\") + emoji.emojize(\":lock:\") + \"0\" \\\n",
        "    + \"CC0YM4AUNSL4SSN\"\n",
        "\n",
        "cipher_indices = encode_message(list(cipher_example))\n",
        "blocks_c = blockify(cipher_indices, r=3)\n",
        "\n",
        "rows_dec = []\n",
        "for j, b in enumerate(blocks_c, 1):\n",
        "    x_raw = K_inv_mod.dot(b)\n",
        "    x_mod = (x_raw % N).astype(int).tolist()\n",
        "    decoded = [phi_inv[i] for i in x_mod]\n",
        "    rows_dec.append([j, b, x_raw.tolist(), x_mod, decoded])\n",
        "\n",
        "df_dec = pd.DataFrame(rows_dec, columns=[\"j\",\"y (indices)\",\"K^-1 y (pre-mod)\",\"K^-1 y mod 40\",\"Decoded\"])\n",
        "df_dec"
      ]
    },
    {
      "cell_type": "code",
      "execution_count": null,
      "metadata": {},
      "outputs": [],
      "source": [
        "# Plaintext final recovered\n",
        "plaintext_recovered = ''.join(''.join(row[-1]) for row in rows_dec)\n",
        "print(\"Recovered plaintext:\\n\", plaintext_recovered)"
      ]
    }
  ],
  "metadata": {
    "kernelspec": {
      "display_name": "Python 3",
      "language": "python",
      "name": "python3"
    },
    "language_info": {
      "name": "python",
      "version": "3.9"
    }
  },
  "nbformat": 4,
  "nbformat_minor": 2
}